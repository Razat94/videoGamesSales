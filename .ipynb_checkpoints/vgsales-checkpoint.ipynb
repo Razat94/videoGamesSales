{
 "cells": [
  {
   "cell_type": "markdown",
   "metadata": {},
   "source": [
    "# Video Game Sales Analysis"
   ]
  },
  {
   "cell_type": "markdown",
   "metadata": {},
   "source": [
    "<p> First let's import the data </p>"
   ]
  },
  {
   "cell_type": "code",
   "execution_count": 41,
   "metadata": {},
   "outputs": [],
   "source": [
    "import pandas as pd\n",
    "import numpy as np\n",
    "import seaborn as sea\n",
    "import matplotlib.pyplot as plt\n",
    "pdf = pd.read_csv(\"/home/linux/Desktop/vg_project/vgsales.csv\")"
   ]
  },
  {
   "cell_type": "markdown",
   "metadata": {},
   "source": [
    "<p> Let's look at the columns </p>"
   ]
  },
  {
   "cell_type": "markdown",
   "metadata": {},
   "source": [
    "<p> Get all of the columns for the row </p>"
   ]
  },
  {
   "cell_type": "code",
   "execution_count": 42,
   "metadata": {},
   "outputs": [
    {
     "name": "stdout",
     "output_type": "stream",
     "text": [
      "Rank\n",
      "Name\n",
      "Platform\n",
      "Year\n",
      "Genre\n",
      "Publisher\n",
      "NA_Sales\n",
      "EU_Sales\n",
      "JP_Sales\n",
      "Other_Sales\n",
      "Global_Sales\n"
     ]
    }
   ],
   "source": [
    "for x in pdf: print(x)"
   ]
  },
  {
   "cell_type": "markdown",
   "metadata": {},
   "source": [
    "<p> Get the top 5 records </p>"
   ]
  },
  {
   "cell_type": "code",
   "execution_count": 43,
   "metadata": {
    "scrolled": false
   },
   "outputs": [
    {
     "data": {
      "text/html": [
       "<div>\n",
       "<style scoped>\n",
       "    .dataframe tbody tr th:only-of-type {\n",
       "        vertical-align: middle;\n",
       "    }\n",
       "\n",
       "    .dataframe tbody tr th {\n",
       "        vertical-align: top;\n",
       "    }\n",
       "\n",
       "    .dataframe thead th {\n",
       "        text-align: right;\n",
       "    }\n",
       "</style>\n",
       "<table border=\"1\" class=\"dataframe\">\n",
       "  <thead>\n",
       "    <tr style=\"text-align: right;\">\n",
       "      <th></th>\n",
       "      <th>Rank</th>\n",
       "      <th>Name</th>\n",
       "      <th>Platform</th>\n",
       "      <th>Year</th>\n",
       "      <th>Genre</th>\n",
       "      <th>Publisher</th>\n",
       "      <th>NA_Sales</th>\n",
       "      <th>EU_Sales</th>\n",
       "      <th>JP_Sales</th>\n",
       "      <th>Other_Sales</th>\n",
       "      <th>Global_Sales</th>\n",
       "    </tr>\n",
       "  </thead>\n",
       "  <tbody>\n",
       "    <tr>\n",
       "      <th>0</th>\n",
       "      <td>1</td>\n",
       "      <td>Wii Sports</td>\n",
       "      <td>Wii</td>\n",
       "      <td>2006.0</td>\n",
       "      <td>Sports</td>\n",
       "      <td>Nintendo</td>\n",
       "      <td>41.49</td>\n",
       "      <td>29.02</td>\n",
       "      <td>3.77</td>\n",
       "      <td>8.46</td>\n",
       "      <td>82.74</td>\n",
       "    </tr>\n",
       "    <tr>\n",
       "      <th>1</th>\n",
       "      <td>2</td>\n",
       "      <td>Super Mario Bros.</td>\n",
       "      <td>NES</td>\n",
       "      <td>1985.0</td>\n",
       "      <td>Platform</td>\n",
       "      <td>Nintendo</td>\n",
       "      <td>29.08</td>\n",
       "      <td>3.58</td>\n",
       "      <td>6.81</td>\n",
       "      <td>0.77</td>\n",
       "      <td>40.24</td>\n",
       "    </tr>\n",
       "    <tr>\n",
       "      <th>2</th>\n",
       "      <td>3</td>\n",
       "      <td>Mario Kart Wii</td>\n",
       "      <td>Wii</td>\n",
       "      <td>2008.0</td>\n",
       "      <td>Racing</td>\n",
       "      <td>Nintendo</td>\n",
       "      <td>15.85</td>\n",
       "      <td>12.88</td>\n",
       "      <td>3.79</td>\n",
       "      <td>3.31</td>\n",
       "      <td>35.82</td>\n",
       "    </tr>\n",
       "    <tr>\n",
       "      <th>3</th>\n",
       "      <td>4</td>\n",
       "      <td>Wii Sports Resort</td>\n",
       "      <td>Wii</td>\n",
       "      <td>2009.0</td>\n",
       "      <td>Sports</td>\n",
       "      <td>Nintendo</td>\n",
       "      <td>15.75</td>\n",
       "      <td>11.01</td>\n",
       "      <td>3.28</td>\n",
       "      <td>2.96</td>\n",
       "      <td>33.00</td>\n",
       "    </tr>\n",
       "    <tr>\n",
       "      <th>4</th>\n",
       "      <td>5</td>\n",
       "      <td>Pokemon Red/Pokemon Blue</td>\n",
       "      <td>GB</td>\n",
       "      <td>1996.0</td>\n",
       "      <td>Role-Playing</td>\n",
       "      <td>Nintendo</td>\n",
       "      <td>11.27</td>\n",
       "      <td>8.89</td>\n",
       "      <td>10.22</td>\n",
       "      <td>1.00</td>\n",
       "      <td>31.37</td>\n",
       "    </tr>\n",
       "  </tbody>\n",
       "</table>\n",
       "</div>"
      ],
      "text/plain": [
       "   Rank                      Name Platform    Year         Genre Publisher  \\\n",
       "0     1                Wii Sports      Wii  2006.0        Sports  Nintendo   \n",
       "1     2         Super Mario Bros.      NES  1985.0      Platform  Nintendo   \n",
       "2     3            Mario Kart Wii      Wii  2008.0        Racing  Nintendo   \n",
       "3     4         Wii Sports Resort      Wii  2009.0        Sports  Nintendo   \n",
       "4     5  Pokemon Red/Pokemon Blue       GB  1996.0  Role-Playing  Nintendo   \n",
       "\n",
       "   NA_Sales  EU_Sales  JP_Sales  Other_Sales  Global_Sales  \n",
       "0     41.49     29.02      3.77         8.46         82.74  \n",
       "1     29.08      3.58      6.81         0.77         40.24  \n",
       "2     15.85     12.88      3.79         3.31         35.82  \n",
       "3     15.75     11.01      3.28         2.96         33.00  \n",
       "4     11.27      8.89     10.22         1.00         31.37  "
      ]
     },
     "execution_count": 43,
     "metadata": {},
     "output_type": "execute_result"
    }
   ],
   "source": [
    "pdf.head()"
   ]
  },
  {
   "cell_type": "markdown",
   "metadata": {},
   "source": [
    "<p> How many total records are there? </p>"
   ]
  },
  {
   "cell_type": "code",
   "execution_count": 44,
   "metadata": {},
   "outputs": [
    {
     "name": "stdout",
     "output_type": "stream",
     "text": [
      "16599\n"
     ]
    }
   ],
   "source": [
    "print(pdf[\"Rank\"].size + 1)"
   ]
  },
  {
   "cell_type": "markdown",
   "metadata": {},
   "source": [
    "<p style = \"text-align: center; display: block; margin: auto\">Now, let's start analyzing the data </p>"
   ]
  },
  {
   "cell_type": "markdown",
   "metadata": {},
   "source": [
    "<h3> What is the highest selling game in NA? </h3>"
   ]
  },
  {
   "cell_type": "code",
   "execution_count": 45,
   "metadata": {},
   "outputs": [
    {
     "name": "stdout",
     "output_type": "stream",
     "text": [
      "Rank                     1\n",
      "Name            Wii Sports\n",
      "Platform               Wii\n",
      "Year                  2006\n",
      "Genre               Sports\n",
      "Publisher         Nintendo\n",
      "NA_Sales             41.49\n",
      "EU_Sales             29.02\n",
      "JP_Sales              3.77\n",
      "Other_Sales           8.46\n",
      "Global_Sales         82.74\n",
      "Name: 0, dtype: object\n"
     ]
    }
   ],
   "source": [
    "print(pdf.iloc[pdf[\"NA_Sales\"].idxmax()])        "
   ]
  },
  {
   "cell_type": "markdown",
   "metadata": {},
   "source": [
    "<h3> Ok, so what is the highest selling game globally? </h3>"
   ]
  },
  {
   "cell_type": "code",
   "execution_count": 46,
   "metadata": {},
   "outputs": [
    {
     "name": "stdout",
     "output_type": "stream",
     "text": [
      "Rank                     1\n",
      "Name            Wii Sports\n",
      "Platform               Wii\n",
      "Year                  2006\n",
      "Genre               Sports\n",
      "Publisher         Nintendo\n",
      "NA_Sales             41.49\n",
      "EU_Sales             29.02\n",
      "JP_Sales              3.77\n",
      "Other_Sales           8.46\n",
      "Global_Sales         82.74\n",
      "Name: 0, dtype: object\n"
     ]
    }
   ],
   "source": [
    "print(pdf.iloc[pdf[\"Global_Sales\"].idxmax()])  "
   ]
  },
  {
   "cell_type": "code",
   "execution_count": 47,
   "metadata": {},
   "outputs": [],
   "source": [
    "# Create variables for top 5 selling games in NA & Globally\n",
    "top5USA = pdf.nlargest(5,\"NA_Sales\");\n",
    "top5Globally = pdf.nlargest(5,\"Global_Sales\");"
   ]
  },
  {
   "cell_type": "markdown",
   "metadata": {},
   "source": [
    "<h3> Get top 5 highest selling games in NA </h3>"
   ]
  },
  {
   "cell_type": "code",
   "execution_count": 48,
   "metadata": {
    "scrolled": true
   },
   "outputs": [
    {
     "name": "stdout",
     "output_type": "stream",
     "text": [
      "                Name  NA_Sales\n",
      "0         Wii Sports     41.49\n",
      "1  Super Mario Bros.     29.08\n",
      "9          Duck Hunt     26.93\n",
      "5             Tetris     23.20\n",
      "2     Mario Kart Wii     15.85\n"
     ]
    }
   ],
   "source": [
    "print(top5USA[['Name', 'NA_Sales']])"
   ]
  },
  {
   "cell_type": "markdown",
   "metadata": {},
   "source": [
    "<h3> Get top 5 highest selling games globally </h3>"
   ]
  },
  {
   "cell_type": "code",
   "execution_count": 49,
   "metadata": {},
   "outputs": [
    {
     "name": "stdout",
     "output_type": "stream",
     "text": [
      "                       Name  Global_Sales\n",
      "0                Wii Sports         82.74\n",
      "1         Super Mario Bros.         40.24\n",
      "2            Mario Kart Wii         35.82\n",
      "3         Wii Sports Resort         33.00\n",
      "4  Pokemon Red/Pokemon Blue         31.37\n"
     ]
    }
   ],
   "source": [
    "print(top5Globally[['Name', 'Global_Sales']])"
   ]
  },
  {
   "cell_type": "markdown",
   "metadata": {},
   "source": [
    "<h3> Show games that have sold in the top 5 charts in US AND globally  </h3> \n",
    "<p> i.e. find common rows between the data sets </p>"
   ]
  },
  {
   "cell_type": "code",
   "execution_count": 50,
   "metadata": {},
   "outputs": [
    {
     "name": "stdout",
     "output_type": "stream",
     "text": [
      "                Name\n",
      "0         Wii Sports\n",
      "1  Super Mario Bros.\n",
      "2     Mario Kart Wii\n"
     ]
    }
   ],
   "source": [
    "print( top5USA.merge(top5Globally, how = 'inner', on=[\"Name\"])[[\"Name\"]] )"
   ]
  },
  {
   "cell_type": "markdown",
   "metadata": {},
   "source": [
    "<h3> On the flip side, show games that have sold in the top 5 charts in US OR globally.</h3>"
   ]
  },
  {
   "cell_type": "code",
   "execution_count": 51,
   "metadata": {},
   "outputs": [
    {
     "name": "stdout",
     "output_type": "stream",
     "text": [
      "                       Name\n",
      "0                Wii Sports\n",
      "1         Super Mario Bros.\n",
      "2                 Duck Hunt\n",
      "3                    Tetris\n",
      "4            Mario Kart Wii\n",
      "5         Wii Sports Resort\n",
      "6  Pokemon Red/Pokemon Blue\n"
     ]
    }
   ],
   "source": [
    "print( top5USA.merge(top5Globally, how = 'outer', on=[\"Name\"])[[\"Name\"]] )"
   ]
  },
  {
   "cell_type": "markdown",
   "metadata": {},
   "source": [
    "<p> Here's the two clues I used to solve the above two questions: \n",
    "\n",
    "[Source](https://pandas.pydata.org/pandas-docs/stable/reference/api/pandas.DataFrame.merge.html)\n",
    "and\n",
    "[Source](https://stackoverflow.com/questions/19618912/finding-common-rows-intersection-in-two-pandas-dataframes)"
   ]
  },
  {
   "cell_type": "markdown",
   "metadata": {},
   "source": [
    "### Find the highest selling X360 game globally"
   ]
  },
  {
   "cell_type": "code",
   "execution_count": 52,
   "metadata": {},
   "outputs": [
    {
     "name": "stdout",
     "output_type": "stream",
     "text": [
      "                  Name    Year  Global_Sales\n",
      "15  Kinect Adventures!  2010.0         21.82\n"
     ]
    }
   ],
   "source": [
    "allX360Games = ( pdf[[\"Name\",\"Year\",'Global_Sales']][pdf[\"Platform\"] == \"X360\"] )\n",
    "maxX360GlobalSale =  allX360Games['Global_Sales'].max()\n",
    "# print ( maxX360GlobalSale )\n",
    "\n",
    "index = allX360Games['Global_Sales'] == maxX360GlobalSale\n",
    "print(allX360Games[index])"
   ]
  },
  {
   "cell_type": "markdown",
   "metadata": {},
   "source": [
    "[Source](https://www.geeksforgeeks.org/python-pandas-dataframe-groupby/)"
   ]
  },
  {
   "cell_type": "code",
   "execution_count": 53,
   "metadata": {
    "scrolled": true
   },
   "outputs": [],
   "source": [
    "# applying groupby() function to group the data based off of platform alue. \n",
    "platformGames = pdf.groupby('Platform');"
   ]
  },
  {
   "cell_type": "markdown",
   "metadata": {},
   "source": [
    "<h3> Find total number of GB games </h3>\n",
    "<p> To check your answer on the csv file, run this function: </p>\n",
    "<i> =COUNTIF(C:C,\"GB\"); </i>"
   ]
  },
  {
   "cell_type": "code",
   "execution_count": 54,
   "metadata": {},
   "outputs": [
    {
     "name": "stdout",
     "output_type": "stream",
     "text": [
      "98\n"
     ]
    }
   ],
   "source": [
    "print(platformGames.get_group(\"GB\")[\"Name\"].size);"
   ]
  },
  {
   "cell_type": "markdown",
   "metadata": {},
   "source": [
    "<h3> Find all GBA games sold in 2004 </h3>"
   ]
  },
  {
   "cell_type": "code",
   "execution_count": 55,
   "metadata": {},
   "outputs": [
    {
     "name": "stdout",
     "output_type": "stream",
     "text": [
      "                                                    Name    Year\n",
      "58                     Pokemon FireRed/Pokemon LeafGreen  2004.0\n",
      "130                              Pokémon Emerald Version  2004.0\n",
      "817                                      The Incredibles  2004.0\n",
      "937                    Kingdom Hearts: Chain of Memories  2004.0\n",
      "1013       2 Games in 1: Disney Princess & The Lion King  2004.0\n",
      "1113                          Kirby & the Amazing Mirror  2004.0\n",
      "1298                     The SpongeBob SquarePants Movie  2004.0\n",
      "1351               Classic NES Series: Super Mario Bros.  2004.0\n",
      "1357                 The Legend of Zelda: The Minish Cap  2004.0\n",
      "1384                                     Sonic Advance 3  2004.0\n",
      "1624                               Donkey Kong Country 2  2004.0\n",
      "1700                 Final Fantasy I & II: Dawn of Souls  2004.0\n",
      "1738                               Mario vs. Donkey Kong  2004.0\n",
      "1959                                        Spider-Man 2  2004.0\n",
      "2231                                   Crash City Mayhem  2004.0\n",
      "2333             Classic NES Series: The Legend of Zelda  2004.0\n",
      "2335                      Fire Emblem: The Sacred Stones  2004.0\n",
      "2474                               Metroid: Zero Mission  2004.0\n",
      "2485                    Lizzie McGuire 2: Lizzie Diaries  2004.0\n",
      "2715                                     That's So Raven  2004.0\n",
      "2796                     Classic NES Series: Donkey Kong  2004.0\n",
      "2880                    Scooby-Doo 2: Monsters Unleashed  2004.0\n",
      "2937   Classic NES Series: Zelda II: The Adventure of...  2004.0\n",
      "2954                                  Mario Pinball Land  2004.0\n",
      "2971                                          Shark Tale  2004.0\n",
      "3068          Strawberry Shortcake: Summertime Adventure  2004.0\n",
      "3085           Disney's Kim Possible 2: Drakken's Demise  2004.0\n",
      "3104                                   Yoshi Topsy-Turvy  2004.0\n",
      "3135             Crash Bandicoot Purple: Ripto's Rampage  2004.0\n",
      "3159   Nicktoons Collection: Game Boy Advance Video V...  2004.0\n",
      "...                                                  ...     ...\n",
      "12546                                 Rapala Pro Fishing  2004.0\n",
      "12623                        Backyard Skateboarding 2006  2004.0\n",
      "12642                               Racing Gears Advance  2004.0\n",
      "12784                       Mighty Beanz: Pocket Puzzles  2004.0\n",
      "12801           Cabela's Big Game Hunter 2005 Adventures  2004.0\n",
      "12880                              Famicom Mini: Dig Dug  2004.0\n",
      "13192                        Around the World in 80 Days  2004.0\n",
      "13200                        Cartoon Network Block Party  2004.0\n",
      "13493                         Boktai 2: Solar Boy Django  2004.0\n",
      "13500                                   Crushed Baseball  2004.0\n",
      "13547                            Advance Guardian Heroes  2004.0\n",
      "13697                                           Catwoman  2004.0\n",
      "13796                         Famicom Mini: Clu Clu Land  2004.0\n",
      "13913                    Dragon Ball: Advanced Adventure  2004.0\n",
      "14484                                 Super Collapse! II  2004.0\n",
      "14490                                     Smashing Drive  2004.0\n",
      "14528                    R-Type III: The Third Lightning  2004.0\n",
      "14536                              Street Jam Basketball  2004.0\n",
      "14777                       Baldur's Gate: Dark Alliance  2004.0\n",
      "14845                                           Bookworm  2004.0\n",
      "14939                                Serious Sam Advance  2004.0\n",
      "15039                                       Thunderbirds  2004.0\n",
      "15276                                        Kill.Switch  2004.0\n",
      "15562              Barbie as the Princess and the Pauper  2004.0\n",
      "15693                                    SD Gundam Force  2004.0\n",
      "15872                                     Dead to Rights  2004.0\n",
      "16026                                    Ten Pin Alley 2  2004.0\n",
      "16219                                      Thunder Alley  2004.0\n",
      "16305                   Duel Masters: Shadow of the Code  2004.0\n",
      "16445                        Wade Hixton's Counter Punch  2004.0\n",
      "\n",
      "[175 rows x 2 columns]\n"
     ]
    }
   ],
   "source": [
    "print ( pdf.loc[( (pdf['Platform'] == 'GBA') & (pdf['Year'] == 2004))][['Name','Year']] )"
   ]
  },
  {
   "cell_type": "markdown",
   "metadata": {},
   "source": [
    "<p> Alternative way: </p>"
   ]
  },
  {
   "cell_type": "code",
   "execution_count": 56,
   "metadata": {},
   "outputs": [
    {
     "data": {
      "text/html": [
       "<div>\n",
       "<style scoped>\n",
       "    .dataframe tbody tr th:only-of-type {\n",
       "        vertical-align: middle;\n",
       "    }\n",
       "\n",
       "    .dataframe tbody tr th {\n",
       "        vertical-align: top;\n",
       "    }\n",
       "\n",
       "    .dataframe thead th {\n",
       "        text-align: right;\n",
       "    }\n",
       "</style>\n",
       "<table border=\"1\" class=\"dataframe\">\n",
       "  <thead>\n",
       "    <tr style=\"text-align: right;\">\n",
       "      <th></th>\n",
       "      <th>Name</th>\n",
       "      <th>Platform</th>\n",
       "      <th>Year</th>\n",
       "    </tr>\n",
       "  </thead>\n",
       "  <tbody>\n",
       "    <tr>\n",
       "      <th>58</th>\n",
       "      <td>Pokemon FireRed/Pokemon LeafGreen</td>\n",
       "      <td>GBA</td>\n",
       "      <td>2004.0</td>\n",
       "    </tr>\n",
       "    <tr>\n",
       "      <th>130</th>\n",
       "      <td>Pokémon Emerald Version</td>\n",
       "      <td>GBA</td>\n",
       "      <td>2004.0</td>\n",
       "    </tr>\n",
       "    <tr>\n",
       "      <th>817</th>\n",
       "      <td>The Incredibles</td>\n",
       "      <td>GBA</td>\n",
       "      <td>2004.0</td>\n",
       "    </tr>\n",
       "    <tr>\n",
       "      <th>937</th>\n",
       "      <td>Kingdom Hearts: Chain of Memories</td>\n",
       "      <td>GBA</td>\n",
       "      <td>2004.0</td>\n",
       "    </tr>\n",
       "    <tr>\n",
       "      <th>1013</th>\n",
       "      <td>2 Games in 1: Disney Princess &amp; The Lion King</td>\n",
       "      <td>GBA</td>\n",
       "      <td>2004.0</td>\n",
       "    </tr>\n",
       "    <tr>\n",
       "      <th>1113</th>\n",
       "      <td>Kirby &amp; the Amazing Mirror</td>\n",
       "      <td>GBA</td>\n",
       "      <td>2004.0</td>\n",
       "    </tr>\n",
       "    <tr>\n",
       "      <th>1298</th>\n",
       "      <td>The SpongeBob SquarePants Movie</td>\n",
       "      <td>GBA</td>\n",
       "      <td>2004.0</td>\n",
       "    </tr>\n",
       "    <tr>\n",
       "      <th>1351</th>\n",
       "      <td>Classic NES Series: Super Mario Bros.</td>\n",
       "      <td>GBA</td>\n",
       "      <td>2004.0</td>\n",
       "    </tr>\n",
       "    <tr>\n",
       "      <th>1357</th>\n",
       "      <td>The Legend of Zelda: The Minish Cap</td>\n",
       "      <td>GBA</td>\n",
       "      <td>2004.0</td>\n",
       "    </tr>\n",
       "    <tr>\n",
       "      <th>1384</th>\n",
       "      <td>Sonic Advance 3</td>\n",
       "      <td>GBA</td>\n",
       "      <td>2004.0</td>\n",
       "    </tr>\n",
       "    <tr>\n",
       "      <th>1624</th>\n",
       "      <td>Donkey Kong Country 2</td>\n",
       "      <td>GBA</td>\n",
       "      <td>2004.0</td>\n",
       "    </tr>\n",
       "    <tr>\n",
       "      <th>1700</th>\n",
       "      <td>Final Fantasy I &amp; II: Dawn of Souls</td>\n",
       "      <td>GBA</td>\n",
       "      <td>2004.0</td>\n",
       "    </tr>\n",
       "    <tr>\n",
       "      <th>1738</th>\n",
       "      <td>Mario vs. Donkey Kong</td>\n",
       "      <td>GBA</td>\n",
       "      <td>2004.0</td>\n",
       "    </tr>\n",
       "    <tr>\n",
       "      <th>1959</th>\n",
       "      <td>Spider-Man 2</td>\n",
       "      <td>GBA</td>\n",
       "      <td>2004.0</td>\n",
       "    </tr>\n",
       "    <tr>\n",
       "      <th>2231</th>\n",
       "      <td>Crash City Mayhem</td>\n",
       "      <td>GBA</td>\n",
       "      <td>2004.0</td>\n",
       "    </tr>\n",
       "    <tr>\n",
       "      <th>2333</th>\n",
       "      <td>Classic NES Series: The Legend of Zelda</td>\n",
       "      <td>GBA</td>\n",
       "      <td>2004.0</td>\n",
       "    </tr>\n",
       "    <tr>\n",
       "      <th>2335</th>\n",
       "      <td>Fire Emblem: The Sacred Stones</td>\n",
       "      <td>GBA</td>\n",
       "      <td>2004.0</td>\n",
       "    </tr>\n",
       "    <tr>\n",
       "      <th>2474</th>\n",
       "      <td>Metroid: Zero Mission</td>\n",
       "      <td>GBA</td>\n",
       "      <td>2004.0</td>\n",
       "    </tr>\n",
       "    <tr>\n",
       "      <th>2485</th>\n",
       "      <td>Lizzie McGuire 2: Lizzie Diaries</td>\n",
       "      <td>GBA</td>\n",
       "      <td>2004.0</td>\n",
       "    </tr>\n",
       "    <tr>\n",
       "      <th>2715</th>\n",
       "      <td>That's So Raven</td>\n",
       "      <td>GBA</td>\n",
       "      <td>2004.0</td>\n",
       "    </tr>\n",
       "    <tr>\n",
       "      <th>2796</th>\n",
       "      <td>Classic NES Series: Donkey Kong</td>\n",
       "      <td>GBA</td>\n",
       "      <td>2004.0</td>\n",
       "    </tr>\n",
       "    <tr>\n",
       "      <th>2880</th>\n",
       "      <td>Scooby-Doo 2: Monsters Unleashed</td>\n",
       "      <td>GBA</td>\n",
       "      <td>2004.0</td>\n",
       "    </tr>\n",
       "    <tr>\n",
       "      <th>2937</th>\n",
       "      <td>Classic NES Series: Zelda II: The Adventure of...</td>\n",
       "      <td>GBA</td>\n",
       "      <td>2004.0</td>\n",
       "    </tr>\n",
       "    <tr>\n",
       "      <th>2954</th>\n",
       "      <td>Mario Pinball Land</td>\n",
       "      <td>GBA</td>\n",
       "      <td>2004.0</td>\n",
       "    </tr>\n",
       "    <tr>\n",
       "      <th>2971</th>\n",
       "      <td>Shark Tale</td>\n",
       "      <td>GBA</td>\n",
       "      <td>2004.0</td>\n",
       "    </tr>\n",
       "    <tr>\n",
       "      <th>3068</th>\n",
       "      <td>Strawberry Shortcake: Summertime Adventure</td>\n",
       "      <td>GBA</td>\n",
       "      <td>2004.0</td>\n",
       "    </tr>\n",
       "    <tr>\n",
       "      <th>3085</th>\n",
       "      <td>Disney's Kim Possible 2: Drakken's Demise</td>\n",
       "      <td>GBA</td>\n",
       "      <td>2004.0</td>\n",
       "    </tr>\n",
       "    <tr>\n",
       "      <th>3104</th>\n",
       "      <td>Yoshi Topsy-Turvy</td>\n",
       "      <td>GBA</td>\n",
       "      <td>2004.0</td>\n",
       "    </tr>\n",
       "    <tr>\n",
       "      <th>3135</th>\n",
       "      <td>Crash Bandicoot Purple: Ripto's Rampage</td>\n",
       "      <td>GBA</td>\n",
       "      <td>2004.0</td>\n",
       "    </tr>\n",
       "    <tr>\n",
       "      <th>3159</th>\n",
       "      <td>Nicktoons Collection: Game Boy Advance Video V...</td>\n",
       "      <td>GBA</td>\n",
       "      <td>2004.0</td>\n",
       "    </tr>\n",
       "    <tr>\n",
       "      <th>...</th>\n",
       "      <td>...</td>\n",
       "      <td>...</td>\n",
       "      <td>...</td>\n",
       "    </tr>\n",
       "    <tr>\n",
       "      <th>12546</th>\n",
       "      <td>Rapala Pro Fishing</td>\n",
       "      <td>GBA</td>\n",
       "      <td>2004.0</td>\n",
       "    </tr>\n",
       "    <tr>\n",
       "      <th>12623</th>\n",
       "      <td>Backyard Skateboarding 2006</td>\n",
       "      <td>GBA</td>\n",
       "      <td>2004.0</td>\n",
       "    </tr>\n",
       "    <tr>\n",
       "      <th>12642</th>\n",
       "      <td>Racing Gears Advance</td>\n",
       "      <td>GBA</td>\n",
       "      <td>2004.0</td>\n",
       "    </tr>\n",
       "    <tr>\n",
       "      <th>12784</th>\n",
       "      <td>Mighty Beanz: Pocket Puzzles</td>\n",
       "      <td>GBA</td>\n",
       "      <td>2004.0</td>\n",
       "    </tr>\n",
       "    <tr>\n",
       "      <th>12801</th>\n",
       "      <td>Cabela's Big Game Hunter 2005 Adventures</td>\n",
       "      <td>GBA</td>\n",
       "      <td>2004.0</td>\n",
       "    </tr>\n",
       "    <tr>\n",
       "      <th>12880</th>\n",
       "      <td>Famicom Mini: Dig Dug</td>\n",
       "      <td>GBA</td>\n",
       "      <td>2004.0</td>\n",
       "    </tr>\n",
       "    <tr>\n",
       "      <th>13192</th>\n",
       "      <td>Around the World in 80 Days</td>\n",
       "      <td>GBA</td>\n",
       "      <td>2004.0</td>\n",
       "    </tr>\n",
       "    <tr>\n",
       "      <th>13200</th>\n",
       "      <td>Cartoon Network Block Party</td>\n",
       "      <td>GBA</td>\n",
       "      <td>2004.0</td>\n",
       "    </tr>\n",
       "    <tr>\n",
       "      <th>13493</th>\n",
       "      <td>Boktai 2: Solar Boy Django</td>\n",
       "      <td>GBA</td>\n",
       "      <td>2004.0</td>\n",
       "    </tr>\n",
       "    <tr>\n",
       "      <th>13500</th>\n",
       "      <td>Crushed Baseball</td>\n",
       "      <td>GBA</td>\n",
       "      <td>2004.0</td>\n",
       "    </tr>\n",
       "    <tr>\n",
       "      <th>13547</th>\n",
       "      <td>Advance Guardian Heroes</td>\n",
       "      <td>GBA</td>\n",
       "      <td>2004.0</td>\n",
       "    </tr>\n",
       "    <tr>\n",
       "      <th>13697</th>\n",
       "      <td>Catwoman</td>\n",
       "      <td>GBA</td>\n",
       "      <td>2004.0</td>\n",
       "    </tr>\n",
       "    <tr>\n",
       "      <th>13796</th>\n",
       "      <td>Famicom Mini: Clu Clu Land</td>\n",
       "      <td>GBA</td>\n",
       "      <td>2004.0</td>\n",
       "    </tr>\n",
       "    <tr>\n",
       "      <th>13913</th>\n",
       "      <td>Dragon Ball: Advanced Adventure</td>\n",
       "      <td>GBA</td>\n",
       "      <td>2004.0</td>\n",
       "    </tr>\n",
       "    <tr>\n",
       "      <th>14484</th>\n",
       "      <td>Super Collapse! II</td>\n",
       "      <td>GBA</td>\n",
       "      <td>2004.0</td>\n",
       "    </tr>\n",
       "    <tr>\n",
       "      <th>14490</th>\n",
       "      <td>Smashing Drive</td>\n",
       "      <td>GBA</td>\n",
       "      <td>2004.0</td>\n",
       "    </tr>\n",
       "    <tr>\n",
       "      <th>14528</th>\n",
       "      <td>R-Type III: The Third Lightning</td>\n",
       "      <td>GBA</td>\n",
       "      <td>2004.0</td>\n",
       "    </tr>\n",
       "    <tr>\n",
       "      <th>14536</th>\n",
       "      <td>Street Jam Basketball</td>\n",
       "      <td>GBA</td>\n",
       "      <td>2004.0</td>\n",
       "    </tr>\n",
       "    <tr>\n",
       "      <th>14777</th>\n",
       "      <td>Baldur's Gate: Dark Alliance</td>\n",
       "      <td>GBA</td>\n",
       "      <td>2004.0</td>\n",
       "    </tr>\n",
       "    <tr>\n",
       "      <th>14845</th>\n",
       "      <td>Bookworm</td>\n",
       "      <td>GBA</td>\n",
       "      <td>2004.0</td>\n",
       "    </tr>\n",
       "    <tr>\n",
       "      <th>14939</th>\n",
       "      <td>Serious Sam Advance</td>\n",
       "      <td>GBA</td>\n",
       "      <td>2004.0</td>\n",
       "    </tr>\n",
       "    <tr>\n",
       "      <th>15039</th>\n",
       "      <td>Thunderbirds</td>\n",
       "      <td>GBA</td>\n",
       "      <td>2004.0</td>\n",
       "    </tr>\n",
       "    <tr>\n",
       "      <th>15276</th>\n",
       "      <td>Kill.Switch</td>\n",
       "      <td>GBA</td>\n",
       "      <td>2004.0</td>\n",
       "    </tr>\n",
       "    <tr>\n",
       "      <th>15562</th>\n",
       "      <td>Barbie as the Princess and the Pauper</td>\n",
       "      <td>GBA</td>\n",
       "      <td>2004.0</td>\n",
       "    </tr>\n",
       "    <tr>\n",
       "      <th>15693</th>\n",
       "      <td>SD Gundam Force</td>\n",
       "      <td>GBA</td>\n",
       "      <td>2004.0</td>\n",
       "    </tr>\n",
       "    <tr>\n",
       "      <th>15872</th>\n",
       "      <td>Dead to Rights</td>\n",
       "      <td>GBA</td>\n",
       "      <td>2004.0</td>\n",
       "    </tr>\n",
       "    <tr>\n",
       "      <th>16026</th>\n",
       "      <td>Ten Pin Alley 2</td>\n",
       "      <td>GBA</td>\n",
       "      <td>2004.0</td>\n",
       "    </tr>\n",
       "    <tr>\n",
       "      <th>16219</th>\n",
       "      <td>Thunder Alley</td>\n",
       "      <td>GBA</td>\n",
       "      <td>2004.0</td>\n",
       "    </tr>\n",
       "    <tr>\n",
       "      <th>16305</th>\n",
       "      <td>Duel Masters: Shadow of the Code</td>\n",
       "      <td>GBA</td>\n",
       "      <td>2004.0</td>\n",
       "    </tr>\n",
       "    <tr>\n",
       "      <th>16445</th>\n",
       "      <td>Wade Hixton's Counter Punch</td>\n",
       "      <td>GBA</td>\n",
       "      <td>2004.0</td>\n",
       "    </tr>\n",
       "  </tbody>\n",
       "</table>\n",
       "<p>175 rows × 3 columns</p>\n",
       "</div>"
      ],
      "text/plain": [
       "                                                    Name Platform    Year\n",
       "58                     Pokemon FireRed/Pokemon LeafGreen      GBA  2004.0\n",
       "130                              Pokémon Emerald Version      GBA  2004.0\n",
       "817                                      The Incredibles      GBA  2004.0\n",
       "937                    Kingdom Hearts: Chain of Memories      GBA  2004.0\n",
       "1013       2 Games in 1: Disney Princess & The Lion King      GBA  2004.0\n",
       "1113                          Kirby & the Amazing Mirror      GBA  2004.0\n",
       "1298                     The SpongeBob SquarePants Movie      GBA  2004.0\n",
       "1351               Classic NES Series: Super Mario Bros.      GBA  2004.0\n",
       "1357                 The Legend of Zelda: The Minish Cap      GBA  2004.0\n",
       "1384                                     Sonic Advance 3      GBA  2004.0\n",
       "1624                               Donkey Kong Country 2      GBA  2004.0\n",
       "1700                 Final Fantasy I & II: Dawn of Souls      GBA  2004.0\n",
       "1738                               Mario vs. Donkey Kong      GBA  2004.0\n",
       "1959                                        Spider-Man 2      GBA  2004.0\n",
       "2231                                   Crash City Mayhem      GBA  2004.0\n",
       "2333             Classic NES Series: The Legend of Zelda      GBA  2004.0\n",
       "2335                      Fire Emblem: The Sacred Stones      GBA  2004.0\n",
       "2474                               Metroid: Zero Mission      GBA  2004.0\n",
       "2485                    Lizzie McGuire 2: Lizzie Diaries      GBA  2004.0\n",
       "2715                                     That's So Raven      GBA  2004.0\n",
       "2796                     Classic NES Series: Donkey Kong      GBA  2004.0\n",
       "2880                    Scooby-Doo 2: Monsters Unleashed      GBA  2004.0\n",
       "2937   Classic NES Series: Zelda II: The Adventure of...      GBA  2004.0\n",
       "2954                                  Mario Pinball Land      GBA  2004.0\n",
       "2971                                          Shark Tale      GBA  2004.0\n",
       "3068          Strawberry Shortcake: Summertime Adventure      GBA  2004.0\n",
       "3085           Disney's Kim Possible 2: Drakken's Demise      GBA  2004.0\n",
       "3104                                   Yoshi Topsy-Turvy      GBA  2004.0\n",
       "3135             Crash Bandicoot Purple: Ripto's Rampage      GBA  2004.0\n",
       "3159   Nicktoons Collection: Game Boy Advance Video V...      GBA  2004.0\n",
       "...                                                  ...      ...     ...\n",
       "12546                                 Rapala Pro Fishing      GBA  2004.0\n",
       "12623                        Backyard Skateboarding 2006      GBA  2004.0\n",
       "12642                               Racing Gears Advance      GBA  2004.0\n",
       "12784                       Mighty Beanz: Pocket Puzzles      GBA  2004.0\n",
       "12801           Cabela's Big Game Hunter 2005 Adventures      GBA  2004.0\n",
       "12880                              Famicom Mini: Dig Dug      GBA  2004.0\n",
       "13192                        Around the World in 80 Days      GBA  2004.0\n",
       "13200                        Cartoon Network Block Party      GBA  2004.0\n",
       "13493                         Boktai 2: Solar Boy Django      GBA  2004.0\n",
       "13500                                   Crushed Baseball      GBA  2004.0\n",
       "13547                            Advance Guardian Heroes      GBA  2004.0\n",
       "13697                                           Catwoman      GBA  2004.0\n",
       "13796                         Famicom Mini: Clu Clu Land      GBA  2004.0\n",
       "13913                    Dragon Ball: Advanced Adventure      GBA  2004.0\n",
       "14484                                 Super Collapse! II      GBA  2004.0\n",
       "14490                                     Smashing Drive      GBA  2004.0\n",
       "14528                    R-Type III: The Third Lightning      GBA  2004.0\n",
       "14536                              Street Jam Basketball      GBA  2004.0\n",
       "14777                       Baldur's Gate: Dark Alliance      GBA  2004.0\n",
       "14845                                           Bookworm      GBA  2004.0\n",
       "14939                                Serious Sam Advance      GBA  2004.0\n",
       "15039                                       Thunderbirds      GBA  2004.0\n",
       "15276                                        Kill.Switch      GBA  2004.0\n",
       "15562              Barbie as the Princess and the Pauper      GBA  2004.0\n",
       "15693                                    SD Gundam Force      GBA  2004.0\n",
       "15872                                     Dead to Rights      GBA  2004.0\n",
       "16026                                    Ten Pin Alley 2      GBA  2004.0\n",
       "16219                                      Thunder Alley      GBA  2004.0\n",
       "16305                   Duel Masters: Shadow of the Code      GBA  2004.0\n",
       "16445                        Wade Hixton's Counter Punch      GBA  2004.0\n",
       "\n",
       "[175 rows x 3 columns]"
      ]
     },
     "execution_count": 56,
     "metadata": {},
     "output_type": "execute_result"
    }
   ],
   "source": [
    "pdf[[\"Name\",\"Platform\",\"Year\"]][(pdf[\"Platform\"] == \"GBA\") & (pdf[\"Year\"] == 2004) ]"
   ]
  },
  {
   "cell_type": "markdown",
   "metadata": {},
   "source": [
    "[Source](https://stackoverflow.com/questions/48979561/selecting-rows-from-a-dataframe-based-on-values-from-multiple-columns-in-pandas#answer-48979902)\n",
    "and\n",
    "[Source](https://stackoverflow.com/questions/48979561/selecting-rows-from-a-dataframe-based-on-values-from-multiple-columns-in-pandas#answer-48981308\")\n",
    "  "
   ]
  },
  {
   "cell_type": "markdown",
   "metadata": {},
   "source": [
    "<h3> Find all games that were sold on the PS3 </h3>"
   ]
  },
  {
   "cell_type": "code",
   "execution_count": 57,
   "metadata": {
    "scrolled": true
   },
   "outputs": [
    {
     "name": "stdout",
     "output_type": "stream",
     "text": [
      "                                                    Name Platform\n",
      "16                                    Grand Theft Auto V      PS3\n",
      "34                            Call of Duty: Black Ops II      PS3\n",
      "37                        Call of Duty: Modern Warfare 3      PS3\n",
      "40                               Call of Duty: Black Ops      PS3\n",
      "54                                        Gran Turismo 5      PS3\n",
      "55                        Call of Duty: Modern Warfare 2      PS3\n",
      "56                                   Grand Theft Auto IV      PS3\n",
      "67                                  Call of Duty: Ghosts      PS3\n",
      "82                                        FIFA Soccer 13      PS3\n",
      "103                                        Battlefield 3      PS3\n",
      "112                                              FIFA 14      PS3\n",
      "115                       Uncharted 3: Drake's Deception      PS3\n",
      "119                           Uncharted 2: Among Thieves      PS3\n",
      "120                       Call of Duty 4: Modern Warfare      PS3\n",
      "121                                              FIFA 12      PS3\n",
      "123                                  Red Dead Redemption      PS3\n",
      "126                          The Elder Scrolls V: Skyrim      PS3\n",
      "128                                 Assassin's Creed III      PS3\n",
      "144             Metal Gear Solid 4: Guns of the Patriots      PS3\n",
      "146                                       The Last of Us      PS3\n",
      "148                                      LittleBigPlanet      PS3\n",
      "156                                  Assassin's Creed II      PS3\n",
      "159                                  Batman: Arkham City      PS3\n",
      "166                           Call of Duty: World at War      PS3\n",
      "168                                            Minecraft      PS3\n",
      "169                                   Final Fantasy XIII      PS3\n",
      "196                                      Resident Evil 5      PS3\n",
      "199                                       FIFA Soccer 11      PS3\n",
      "210                           Uncharted: Drake's Fortune      PS3\n",
      "216                                       God of War III      PS3\n",
      "...                                                  ...      ...\n",
      "15979                              Xblaze: Lost Memories      PS3\n",
      "16014            Nobunaga no Yabou Online: Houou no Shou      PS3\n",
      "16036                   Utawarerumono: Futari no Hakuoro      PS3\n",
      "16081                                   Pro Angler Moves      PS3\n",
      "16084  The Legend of Heroes: Trails in the Sky Third ...      PS3\n",
      "16106                      Higurashi no Naku Koro ni Iki      PS3\n",
      "16113                        Winning Post 7 Maximum 2008      PS3\n",
      "16127                                      Madden NFL 13      PS3\n",
      "16142            WSC REAL 09: World Snooker Championship      PS3\n",
      "16178                                        Putty Squad      PS3\n",
      "16179        Sega Golf Club: Miyazato San Kyoudai Naizou      PS3\n",
      "16181                               Resistance Dual Pack      PS3\n",
      "16188                                   Toro to Morimori      PS3\n",
      "16215                      Tsukigime Ranko's Longest Day      PS3\n",
      "16236                     Batman: A Telltale Game Series      PS3\n",
      "16243                                  Mahjong Taikai IV      PS3\n",
      "16246                       Agarest Senki: Re-appearance      PS3\n",
      "16250                                     Strider (2014)      PS3\n",
      "16257  Makai Senki Disgaea 3 Append Disc: Raspberyl-h...      PS3\n",
      "16298         Nitroplus Blasterz: Heroines Infinite Duel      PS3\n",
      "16353                                   G1 Jockey 4 2008      PS3\n",
      "16366                        Hakuouki: Shinsengumi Kitan      PS3\n",
      "16410  Sakigake!! Otokojuku - Nihon yo, Kore ga Otoko...      PS3\n",
      "16416                                        Chaos;Child      PS3\n",
      "16422                                            Railfan      PS3\n",
      "16450                        Hyperdimension Neptunia mk2      PS3\n",
      "16451  Shin Koihime Musou: Otome Taisen * Sangokushi ...      PS3\n",
      "16480                                Muv-Luv Alternative      PS3\n",
      "16521                           Akatsuki no Goei Trinity      PS3\n",
      "16541                                    Battle Fantasia      PS3\n",
      "\n",
      "[1329 rows x 2 columns]\n"
     ]
    }
   ],
   "source": [
    "print(platformGames.get_group(\"PS3\")[['Name','Platform']]);"
   ]
  },
  {
   "cell_type": "markdown",
   "metadata": {},
   "source": [
    "<p> Alternatively... </p>"
   ]
  },
  {
   "cell_type": "code",
   "execution_count": 58,
   "metadata": {},
   "outputs": [
    {
     "name": "stdout",
     "output_type": "stream",
     "text": [
      "                                                    Name\n",
      "16                                    Grand Theft Auto V\n",
      "34                            Call of Duty: Black Ops II\n",
      "37                        Call of Duty: Modern Warfare 3\n",
      "40                               Call of Duty: Black Ops\n",
      "54                                        Gran Turismo 5\n",
      "55                        Call of Duty: Modern Warfare 2\n",
      "56                                   Grand Theft Auto IV\n",
      "67                                  Call of Duty: Ghosts\n",
      "82                                        FIFA Soccer 13\n",
      "103                                        Battlefield 3\n",
      "112                                              FIFA 14\n",
      "115                       Uncharted 3: Drake's Deception\n",
      "119                           Uncharted 2: Among Thieves\n",
      "120                       Call of Duty 4: Modern Warfare\n",
      "121                                              FIFA 12\n",
      "123                                  Red Dead Redemption\n",
      "126                          The Elder Scrolls V: Skyrim\n",
      "128                                 Assassin's Creed III\n",
      "144             Metal Gear Solid 4: Guns of the Patriots\n",
      "146                                       The Last of Us\n",
      "148                                      LittleBigPlanet\n",
      "156                                  Assassin's Creed II\n",
      "159                                  Batman: Arkham City\n",
      "166                           Call of Duty: World at War\n",
      "168                                            Minecraft\n",
      "169                                   Final Fantasy XIII\n",
      "196                                      Resident Evil 5\n",
      "199                                       FIFA Soccer 11\n",
      "210                           Uncharted: Drake's Fortune\n",
      "216                                       God of War III\n",
      "...                                                  ...\n",
      "15979                              Xblaze: Lost Memories\n",
      "16014            Nobunaga no Yabou Online: Houou no Shou\n",
      "16036                   Utawarerumono: Futari no Hakuoro\n",
      "16081                                   Pro Angler Moves\n",
      "16084  The Legend of Heroes: Trails in the Sky Third ...\n",
      "16106                      Higurashi no Naku Koro ni Iki\n",
      "16113                        Winning Post 7 Maximum 2008\n",
      "16127                                      Madden NFL 13\n",
      "16142            WSC REAL 09: World Snooker Championship\n",
      "16178                                        Putty Squad\n",
      "16179        Sega Golf Club: Miyazato San Kyoudai Naizou\n",
      "16181                               Resistance Dual Pack\n",
      "16188                                   Toro to Morimori\n",
      "16215                      Tsukigime Ranko's Longest Day\n",
      "16236                     Batman: A Telltale Game Series\n",
      "16243                                  Mahjong Taikai IV\n",
      "16246                       Agarest Senki: Re-appearance\n",
      "16250                                     Strider (2014)\n",
      "16257  Makai Senki Disgaea 3 Append Disc: Raspberyl-h...\n",
      "16298         Nitroplus Blasterz: Heroines Infinite Duel\n",
      "16353                                   G1 Jockey 4 2008\n",
      "16366                        Hakuouki: Shinsengumi Kitan\n",
      "16410  Sakigake!! Otokojuku - Nihon yo, Kore ga Otoko...\n",
      "16416                                        Chaos;Child\n",
      "16422                                            Railfan\n",
      "16450                        Hyperdimension Neptunia mk2\n",
      "16451  Shin Koihime Musou: Otome Taisen * Sangokushi ...\n",
      "16480                                Muv-Luv Alternative\n",
      "16521                           Akatsuki no Goei Trinity\n",
      "16541                                    Battle Fantasia\n",
      "\n",
      "[1329 rows x 1 columns]\n"
     ]
    }
   ],
   "source": [
    "print ( pdf[[\"Name\"]][pdf[\"Platform\"] == \"PS3\"] )"
   ]
  },
  {
   "cell_type": "markdown",
   "metadata": {},
   "source": [
    "### Show how many GBA games were released per year"
   ]
  },
  {
   "cell_type": "markdown",
   "metadata": {},
   "source": [
    "<p> First, make a variable which holds all GBA games </p>"
   ]
  },
  {
   "cell_type": "code",
   "execution_count": 59,
   "metadata": {},
   "outputs": [],
   "source": [
    "allGBAGames = ( pdf[[\"Name\",\"Year\"]][pdf[\"Platform\"] == \"GBA\"] )\n",
    "allGBAGamesByYear = allGBAGames.groupby(\"Year\");\n",
    "# print(allGBAGames)"
   ]
  },
  {
   "cell_type": "markdown",
   "metadata": {},
   "source": [
    "<p> Now, get the year of the earliest GBA year release & the latest </p>"
   ]
  },
  {
   "cell_type": "code",
   "execution_count": 60,
   "metadata": {},
   "outputs": [],
   "source": [
    "minGBAYear = int( allGBAGames['Year'].min() )\n",
    "maxGBAYear = int( allGBAGames['Year'].max() )\n",
    "\n",
    "# NOTE / FUN FACT:\n",
    "# The first released GBA game was in 2000\n",
    "# The last released GBA game was in 2007"
   ]
  },
  {
   "cell_type": "markdown",
   "metadata": {},
   "source": [
    "<b> Show how many GBA games were released per year </b>"
   ]
  },
  {
   "cell_type": "code",
   "execution_count": 61,
   "metadata": {
    "scrolled": true
   },
   "outputs": [
    {
     "name": "stdout",
     "output_type": "stream",
     "text": [
      "(2000, 1)\n",
      "(2001, 107)\n",
      "(2002, 198)\n",
      "(2003, 150)\n",
      "(2004, 175)\n",
      "(2005, 135)\n",
      "(2006, 39)\n",
      "(2007, 6)\n"
     ]
    }
   ],
   "source": [
    "# Remember, the range needs to include the actual maxGBAYear\n",
    "for x in range ( minGBAYear, maxGBAYear + 1):\n",
    "    print(x, allGBAGamesByYear.get_group(x)[\"Name\"].size)"
   ]
  },
  {
   "cell_type": "markdown",
   "metadata": {},
   "source": [
    "<p> Safety check...print out the GBA games released in 2000 & 2007</p>\n",
    "<i>Can you guess how many there will be for each year?</p>"
   ]
  },
  {
   "cell_type": "code",
   "execution_count": 62,
   "metadata": {},
   "outputs": [
    {
     "name": "stdout",
     "output_type": "stream",
     "text": [
      "12270    ESPN Winter X-Games: Snowboarding 2002\n",
      "Name: Name, dtype: object\n"
     ]
    }
   ],
   "source": [
    "print(allGBAGamesByYear.get_group(minGBAYear)[\"Name\"])"
   ]
  },
  {
   "cell_type": "code",
   "execution_count": 63,
   "metadata": {},
   "outputs": [
    {
     "name": "stdout",
     "output_type": "stream",
     "text": [
      "998      2 Games in 1 Double Pack: The Incredibles / Fi...\n",
      "1662          Shrek / Shrek 2 2-in-1 Gameboy Advance Video\n",
      "7076                         Barbie as The Island Princess\n",
      "7703                                           Ratatouille\n",
      "15704           Cabbage Patch Kids: The Patch Puppy Rescue\n",
      "16398                                Petz: Hamsterz Life 2\n",
      "Name: Name, dtype: object\n"
     ]
    }
   ],
   "source": [
    "print(allGBAGamesByYear.get_group(maxGBAYear)[\"Name\"])"
   ]
  },
  {
   "cell_type": "markdown",
   "metadata": {},
   "source": [
    "### Make a plot graph"
   ]
  },
  {
   "cell_type": "code",
   "execution_count": 64,
   "metadata": {},
   "outputs": [
    {
     "name": "stdout",
     "output_type": "stream",
     "text": [
      "(2000, 1)\n",
      "(2001, 107)\n",
      "(2002, 198)\n",
      "(2003, 150)\n",
      "(2004, 175)\n",
      "(2005, 135)\n",
      "(2006, 39)\n",
      "(2007, 6)\n"
     ]
    }
   ],
   "source": [
    "# Remember, the range needs to include the actual maxGBAYear\n",
    "gbaYearsRange = [] \n",
    "gbaGamesPerYear = []\n",
    "\n",
    "for x in range ( minGBAYear, maxGBAYear + 1):\n",
    "    gbaYearsRange.append(x);\n",
    "    gbaGamesPerYear.append(allGBAGamesByYear.get_group(x)[\"Name\"].size)\n",
    "    \n",
    "    \n",
    "for x in range ( 0, len(gbaYearsRange) ):\n",
    "    print(gbaYearsRange[x], gbaGamesPerYear[x] )"
   ]
  },
  {
   "cell_type": "code",
   "execution_count": 65,
   "metadata": {},
   "outputs": [
    {
     "data": {
      "image/png": "[encoded data removed]",
      "text/plain": [
       "<Figure size 432x288 with 1 Axes>"
      ]
     },
     "metadata": {
      "needs_background": "light"
     },
     "output_type": "display_data"
    }
   ],
   "source": [
    "plt.plot(gbaYearsRange,gbaGamesPerYear, 'ro')\n",
    "plt.axis([2000, 2010, 0, 300])\n",
    "plt.xlabel(\"Years\")\n",
    "plt.ylabel(\"Quantity of GBA Games Released\")\n",
    "plt.title(\"GBA games released per year\")\n",
    "plt.show()"
   ]
  },
  {
   "cell_type": "markdown",
   "metadata": {},
   "source": [
    "[Source](https://matplotlib.org/users/pyplot_tutorial.html)"
   ]
  },
  {
   "cell_type": "markdown",
   "metadata": {},
   "source": [
    "<h3> Find out how many games have the word \"Mario\" in them </h3>"
   ]
  },
  {
   "cell_type": "code",
   "execution_count": 66,
   "metadata": {},
   "outputs": [
    {
     "name": "stdout",
     "output_type": "stream",
     "text": [
      "113\n"
     ]
    }
   ],
   "source": [
    "print ( pdf[pdf[\"Name\"].str.contains(\"Mario\", case=False)][\"Name\"].size )"
   ]
  },
  {
   "cell_type": "markdown",
   "metadata": {},
   "source": [
    "[Source](https://pandas.pydata.org/pandas-docs/stable/reference/api/pandas.Series.str.contains.html)\n",
    "and \n",
    "[Source](https://stackoverflow.com/questions/11350770/select-by-partial-string-from-a-pandas-dataframe/#answer-11531402)"
   ]
  },
  {
   "cell_type": "markdown",
   "metadata": {},
   "source": [
    "<br> </br>"
   ]
  },
  {
   "cell_type": "markdown",
   "metadata": {},
   "source": [
    "## Let's now build charts"
   ]
  },
  {
   "cell_type": "markdown",
   "metadata": {},
   "source": [
    "<b> Building charts aren't that hard <b>\n",
    "<br>\n",
    "<b> There is some additional information to take note of first, so I will be going over that first </b>"
   ]
  },
  {
   "cell_type": "markdown",
   "metadata": {},
   "source": [
    "<h3> Get the list of all categorical platform devices </h3>"
   ]
  },
  {
   "cell_type": "code",
   "execution_count": 67,
   "metadata": {
    "scrolled": true
   },
   "outputs": [
    {
     "name": "stdout",
     "output_type": "stream",
     "text": [
      "['Wii' 'NES' 'GB' 'DS' 'X360' 'PS3' 'PS2' 'SNES' 'GBA' '3DS' 'PS4' 'N64'\n",
      " 'PS' 'XB' 'PC' '2600' 'PSP' 'XOne' 'GC' 'WiiU' 'GEN' 'DC' 'PSV' 'SAT'\n",
      " 'SCD' 'WS' 'NG' 'TG16' '3DO' 'GG' 'PCFX']\n"
     ]
    }
   ],
   "source": [
    "uniquePlatforms = pdf[\"Platform\"].unique()\n",
    "print ( uniquePlatforms )"
   ]
  },
  {
   "cell_type": "markdown",
   "metadata": {},
   "source": [
    "<b> The follow are all mini steps that are useful for the next question </b>"
   ]
  },
  {
   "cell_type": "markdown",
   "metadata": {},
   "source": [
    "<p> First & foremost, how many different platforms are there? </p>"
   ]
  },
  {
   "cell_type": "code",
   "execution_count": 68,
   "metadata": {},
   "outputs": [
    {
     "name": "stdout",
     "output_type": "stream",
     "text": [
      "31\n"
     ]
    }
   ],
   "source": [
    "print ( uniquePlatforms.size )"
   ]
  },
  {
   "cell_type": "markdown",
   "metadata": {},
   "source": [
    "<p> Get the first unique categorical platform </p>"
   ]
  },
  {
   "cell_type": "code",
   "execution_count": 69,
   "metadata": {},
   "outputs": [
    {
     "name": "stdout",
     "output_type": "stream",
     "text": [
      "Wii\n"
     ]
    }
   ],
   "source": [
    "print ( str(uniquePlatforms[0]) )"
   ]
  },
  {
   "cell_type": "markdown",
   "metadata": {},
   "source": [
    "<p> See how many Wii platform games there are in the dataset </p>"
   ]
  },
  {
   "cell_type": "code",
   "execution_count": 70,
   "metadata": {},
   "outputs": [
    {
     "name": "stdout",
     "output_type": "stream",
     "text": [
      "1325\n"
     ]
    }
   ],
   "source": [
    "print ( pdf[[\"Name\"]][pdf[\"Platform\"] == \"Wii\"].size )  "
   ]
  },
  {
   "cell_type": "markdown",
   "metadata": {},
   "source": [
    "<p> Let's combine the previous two statements: </p>\n",
    "<b> For the first unique categorical platform, display how many games there are</b>\n",
    "\n",
    "<i> Spoiler alert: Your answer should be the same as above </i> "
   ]
  },
  {
   "cell_type": "code",
   "execution_count": 71,
   "metadata": {
    "scrolled": true
   },
   "outputs": [
    {
     "name": "stdout",
     "output_type": "stream",
     "text": [
      "1325\n"
     ]
    }
   ],
   "source": [
    "print ( pdf[[\"Name\"]][pdf[\"Platform\"] == str(uniquePlatforms[0])].size )"
   ]
  },
  {
   "cell_type": "markdown",
   "metadata": {},
   "source": [
    "<p> With all of that cleared out of the way, we can go on to the next step. </p>"
   ]
  },
  {
   "cell_type": "markdown",
   "metadata": {},
   "source": [
    "<h3> Get the total games available for each categorical platform devices </h3> "
   ]
  },
  {
   "cell_type": "code",
   "execution_count": 72,
   "metadata": {},
   "outputs": [],
   "source": [
    "platformSize = []\n",
    "\n",
    "for x in range ( 0, uniquePlatforms.size):\n",
    "    platformSize.append(pdf[[\"Name\"]][pdf[\"Platform\"] == str(uniquePlatforms[x])].size)"
   ]
  },
  {
   "cell_type": "code",
   "execution_count": 73,
   "metadata": {
    "scrolled": true
   },
   "outputs": [
    {
     "name": "stdout",
     "output_type": "stream",
     "text": [
      "('Wii', 1325)\n",
      "('NES', 98)\n",
      "('GB', 98)\n",
      "('DS', 2163)\n",
      "('X360', 1265)\n",
      "('PS3', 1329)\n",
      "('PS2', 2161)\n",
      "('SNES', 239)\n",
      "('GBA', 822)\n",
      "('3DS', 509)\n",
      "('PS4', 336)\n",
      "('N64', 319)\n",
      "('PS', 1196)\n",
      "('XB', 824)\n",
      "('PC', 960)\n",
      "('2600', 133)\n",
      "('PSP', 1213)\n",
      "('XOne', 213)\n",
      "('GC', 556)\n",
      "('WiiU', 143)\n",
      "('GEN', 27)\n",
      "('DC', 52)\n",
      "('PSV', 413)\n",
      "('SAT', 173)\n",
      "('SCD', 6)\n",
      "('WS', 6)\n",
      "('NG', 12)\n",
      "('TG16', 2)\n",
      "('3DO', 3)\n",
      "('GG', 1)\n",
      "('PCFX', 1)\n"
     ]
    }
   ],
   "source": [
    "for x in range ( 0, uniquePlatforms.size):\n",
    "    print ( uniquePlatforms[x], platformSize[x] )"
   ]
  },
  {
   "cell_type": "markdown",
   "metadata": {},
   "source": [
    "### Make the bar chart"
   ]
  },
  {
   "cell_type": "markdown",
   "metadata": {},
   "source": [
    "<p> There are 31 platforms in total, I narrowed it down to 3 platforms: Wii, X360, & PS3 </p>  \n",
    "\n",
    "<p> I will compare the sheer count of games for each platform"
   ]
  },
  {
   "cell_type": "code",
   "execution_count": 74,
   "metadata": {},
   "outputs": [],
   "source": [
    "# First, declare the variables\n",
    "platform = ['Wii', 'X360', 'PS3']\n",
    "\n",
    "platformCount = []\n",
    "platformCount.append( pdf[[\"Name\"]][pdf[\"Platform\"] == \"Wii\"].size )  \n",
    "platformCount.append( pdf[[\"Name\"]][pdf[\"Platform\"] == \"X360\"].size )  \n",
    "platformCount.append( pdf[[\"Name\"]][pdf[\"Platform\"] == \"PS3\"].size )  "
   ]
  },
  {
   "cell_type": "code",
   "execution_count": 75,
   "metadata": {
    "scrolled": true
   },
   "outputs": [
    {
     "data": {
      "image/png": "[encoded data removed]",
      "text/plain": [
       "<Figure size 432x288 with 1 Axes>"
      ]
     },
     "metadata": {
      "needs_background": "light"
     },
     "output_type": "display_data"
    }
   ],
   "source": [
    "y_pos = np.arange(len(platform))\n",
    "performance = platformCount\n",
    "color = ['gold', 'yellowgreen','lightskyblue']\n",
    "\n",
    "# \n",
    "plt.bar(y_pos, performance, align='center', alpha=0.5, color = color)\n",
    "plt.xticks(y_pos, platform)\n",
    "plt.ylabel('Count')\n",
    "plt.title('Platforms')\n",
    "plt.ylim(ymax = 1500, ymin = 100)\n",
    "\n",
    "plt.show()"
   ]
  },
  {
   "cell_type": "markdown",
   "metadata": {},
   "source": [
    "<a href = \"https://stackoverflow.com/questions/3777861/setting-y-axis-limit-in-matplotlib\">Source</a> and <a href = \"https://pythonspot.com/matplotlib-bar-chart/\">Source</a>.\n",
    "\n",
    "<p> I learned how to change the color of the bar plot \n",
    "    <a href = \"https://python-graph-gallery.com/3-control-color-of-barplots/\">here</a>\n",
    "</p>"
   ]
  },
  {
   "cell_type": "markdown",
   "metadata": {},
   "source": [
    "<h3 style = \"display: block; margin: auto;\"> Make the pie chart </h3>\n",
    "\n",
    "<p> <b>Note:</b> Slices will be ordered and plotted counter-clockwise per the same 3 categories above. </p> "
   ]
  },
  {
   "cell_type": "code",
   "execution_count": 76,
   "metadata": {},
   "outputs": [
    {
     "data": {
      "image/png": "[encoded data removed]",
      "text/plain": [
       "<Figure size 432x288 with 1 Axes>"
      ]
     },
     "metadata": {},
     "output_type": "display_data"
    }
   ],
   "source": [
    "# PLEASE NOTE:\n",
    "# YOU MUST LABEL THE VARIALBLE AS 'LABELS' OTHERWISE YOUR CODE WONT WORK!!!\\\n",
    "labels = platform;\n",
    "sizes = platformCount;\n",
    "colors = ['gold', 'yellowgreen','lightskyblue']\n",
    "\n",
    "#  plt.pie ( s, labels=labels, colors = colors, autopct='%1.1f%%', )\n",
    "\n",
    "fig1, ax1 = plt.subplots()\n",
    "ax1.pie(sizes, labels=labels, autopct='%1.1f%%',\n",
    "        shadow=True, startangle=90, colors = colors)\n",
    "ax1.axis('equal')  # Equal aspect ratio ensures that pie is drawn as a circle.\n",
    "\n",
    "plt.show()\n"
   ]
  },
  {
   "cell_type": "markdown",
   "metadata": {},
   "source": [
    "[Source](https://matplotlib.org/3.1.1/gallery/pie_and_polar_charts/pie_features.html)"
   ]
  },
  {
   "cell_type": "markdown",
   "metadata": {},
   "source": [
    "<p> Simple plot chart that shows number of GBA sold yearly </p>"
   ]
  },
  {
   "cell_type": "markdown",
   "metadata": {},
   "source": [
    "### You've reached the end of the notebook."
   ]
  },
  {
   "cell_type": "markdown",
   "metadata": {},
   "source": [
    "![title](img/thenotebook.jpg)"
   ]
  }
 ],
 "metadata": {
  "kernelspec": {
   "display_name": "Python 2",
   "language": "python",
   "name": "python2"
  },
  "language_info": {
   "codemirror_mode": {
    "name": "ipython",
    "version": 2
   },
   "file_extension": ".py",
   "mimetype": "text/x-python",
   "name": "python",
   "nbconvert_exporter": "python",
   "pygments_lexer": "ipython2",
   "version": "2.7.12"
  }
 },
 "nbformat": 4,
 "nbformat_minor": 2
}
